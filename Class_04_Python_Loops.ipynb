{
 "cells": [
  {
   "cell_type": "markdown",
   "metadata": {},
   "source": [
    "## Nested Conditionals"
   ]
  },
  {
   "cell_type": "code",
   "execution_count": null,
   "metadata": {},
   "outputs": [],
   "source": [
    "a = 1000000000\n",
    "b = 5000000\n",
    "c = 2000\n",
    "if a > b:\n",
    "    if a < c:\n",
    "        print(\"The value of a is between b and c\")\n",
    "    print(\"well at least a is greater than b\")\n",
    "print('done...')"
   ]
  },
  {
   "cell_type": "code",
   "execution_count": null,
   "metadata": {},
   "outputs": [],
   "source": [
    "a = 50\n",
    "b = 5\n",
    "c = 20\n",
    "if a > b:\n",
    "    if a < c:\n",
    "        print(\"The value of a is between b and c\")\n",
    "    else:\n",
    "        print(\"The value of a is NOT NOT NOT between b and c\")\n",
    "elif a < b:\n",
    "    print (\"The value of a is less than b\")\n",
    "else:\n",
    "    print(\"The value of a is same as b\")"
   ]
  },
  {
   "cell_type": "markdown",
   "metadata": {},
   "source": [
    "## while loop"
   ]
  },
  {
   "cell_type": "code",
   "execution_count": null,
   "metadata": {},
   "outputs": [],
   "source": [
    "i = 0\n",
    "# loops until expression evaluates to false\n",
    "while( i < 10000 ):\n",
    "    print(\"'{} < 10' => {}\".format(i, i < 10))\n",
    "    i = i + 1\n",
    "print(\"Thank you!\")"
   ]
  },
  {
   "cell_type": "markdown",
   "metadata": {},
   "source": [
    "### Infinite loop"
   ]
  },
  {
   "cell_type": "code",
   "execution_count": null,
   "metadata": {},
   "outputs": [],
   "source": [
    "i = 0\n",
    "while(i < 10):\n",
    "    x = i + 1    \n",
    "    \n",
    "print('wat')"
   ]
  },
  {
   "cell_type": "markdown",
   "metadata": {},
   "source": [
    "## Practice #4: Keep guessing!\n",
    "\n",
    "Write a program that allows the user to guess the answer to the question, “Which U.S. president was born on July 4?”\n",
    "\n",
    "Sample Interaction\n",
    "\n",
    "Which US president was born on July 4th?: Barack Obama\n",
    "\n",
    "Enter another guess: Bill Clinton\n",
    "\n",
    "Enter another guess: George Bush\n",
    "\n",
    "Enter another guess: Calvin Coolidge\n",
    "\n",
    "answer = \"Calvin Coolidge\"\n",
    "guess = \"\"Thank you!"
   ]
  },
  {
   "cell_type": "code",
   "execution_count": null,
   "metadata": {},
   "outputs": [],
   "source": [
    "answer = \"Calvin Coolidge\"\n",
    "    "
   ]
  },
  {
   "cell_type": "markdown",
   "metadata": {},
   "source": [
    "## Modified Practice #4: Limited guesses with hints\n",
    "\n",
    "Write a program that allows the user ten tries to answer the question, “Which U.S. president was born on July 4?”\n",
    "\n",
    "After three incorrect guesses, the program should display the hint, “He once said, ‘If you don’t say anything, you won’t be called upon to repeat it.’”\n",
    "\n",
    "After seven incorrect guesses, the program should give the hint, “His nickname was ‘Silent Cal.’\n"
   ]
  },
  {
   "cell_type": "code",
   "execution_count": null,
   "metadata": {},
   "outputs": [],
   "source": [
    "hint1 = \"He once said, ‘If you don’t say anything, you won’t be called upon to repeat it.\"\n",
    "hint2 = \"His nickname was 'Silent Cal'\"\n",
    "answer = \"Calvin Coolidge\"\n"
   ]
  },
  {
   "cell_type": "markdown",
   "metadata": {},
   "source": [
    "## for loop"
   ]
  },
  {
   "cell_type": "code",
   "execution_count": null,
   "metadata": {},
   "outputs": [],
   "source": [
    "for i in range(10):\n",
    "    print(i)"
   ]
  },
  {
   "cell_type": "code",
   "execution_count": null,
   "metadata": {},
   "outputs": [],
   "source": [
    "names = ['Jack', 'Jill', 'Jane', 'Jim']\n",
    "for name in names:\n",
    "    print(f\"{name} is ok\")"
   ]
  },
  {
   "cell_type": "markdown",
   "metadata": {},
   "source": [
    "### Practice #5 Printing odd numbers betwen 0 and 15 (excluded)"
   ]
  },
  {
   "cell_type": "code",
   "execution_count": null,
   "metadata": {},
   "outputs": [],
   "source": [
    "for i in range(15):\n",
    "    if i % 2 == 1:\n",
    "        print(i)"
   ]
  },
  {
   "cell_type": "markdown",
   "metadata": {},
   "source": [
    "### Practice #5: Write a program to accept a number n and prints the sum of first n positive integers\n",
    "\n",
    "###### Sample Interaction:\n",
    "\n",
    "Enter a number: 5\n",
    "\n",
    "The sum of first 5 numbers is 15\n"
   ]
  },
  {
   "cell_type": "code",
   "execution_count": null,
   "metadata": {},
   "outputs": [],
   "source": [
    "limit = int(input(\"give me a number: \"))\n"
   ]
  },
  {
   "cell_type": "markdown",
   "metadata": {},
   "source": [
    "## More on range() statement"
   ]
  },
  {
   "cell_type": "code",
   "execution_count": null,
   "metadata": {},
   "outputs": [],
   "source": [
    "range?"
   ]
  },
  {
   "cell_type": "markdown",
   "metadata": {
    "collapsed": true
   },
   "source": [
    "### range(start, stop, step)"
   ]
  },
  {
   "cell_type": "code",
   "execution_count": null,
   "metadata": {},
   "outputs": [],
   "source": [
    "for i in range(4,34,3):\n",
    "    print(i)\n"
   ]
  },
  {
   "cell_type": "code",
   "execution_count": null,
   "metadata": {},
   "outputs": [],
   "source": [
    "# solution to #5 with range()\n",
    "for i in range(1,15,2):\n",
    "    print(i)"
   ]
  },
  {
   "cell_type": "markdown",
   "metadata": {},
   "source": [
    "## import random"
   ]
  },
  {
   "cell_type": "code",
   "execution_count": null,
   "metadata": {},
   "outputs": [],
   "source": [
    "import random\n",
    "print(random.randint(20,4000000))"
   ]
  },
  {
   "cell_type": "code",
   "execution_count": null,
   "metadata": {},
   "outputs": [],
   "source": [
    "random.randint?"
   ]
  },
  {
   "cell_type": "markdown",
   "metadata": {},
   "source": [
    "## Extra Practice\n",
    "use the random module, looping and flow control to complete the following program"
   ]
  },
  {
   "cell_type": "code",
   "execution_count": null,
   "metadata": {},
   "outputs": [],
   "source": [
    "# use random to pick a number between 1 and 10\n",
    "\n",
    "# try to guess the number, return 'higher' or 'lower' if incorrect\n",
    "# celebrate when the correct number is guessed\n",
    "# end the program if the user chooses the same number twice in a row\n"
   ]
  }
 ],
 "metadata": {
  "kernelspec": {
   "display_name": "Python 3",
   "language": "python",
   "name": "python3"
  },
  "language_info": {
   "codemirror_mode": {
    "name": "ipython",
    "version": 3
   },
   "file_extension": ".py",
   "mimetype": "text/x-python",
   "name": "python",
   "nbconvert_exporter": "python",
   "pygments_lexer": "ipython3",
   "version": "3.7.4"
  }
 },
 "nbformat": 4,
 "nbformat_minor": 2
}
