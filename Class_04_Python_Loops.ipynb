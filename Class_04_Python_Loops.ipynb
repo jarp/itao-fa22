{
 "cells": [
  {
   "cell_type": "markdown",
   "metadata": {},
   "source": [
    "## Nested Conditionals"
   ]
  },
  {
   "cell_type": "code",
   "execution_count": null,
   "metadata": {},
   "outputs": [],
   "source": [
    "a = 1000000000\n",
    "b = 50000000\n",
    "c = 20000000000000\n",
    "\n",
    "if a > b:\n",
    "    if a < c:\n",
    "        print(\"The value of a is between b and c\")\n",
    "    else:\n",
    "        print(\"well at least a is greater than b\")\n",
    "\n",
    "print('done...')"
   ]
  },
  {
   "cell_type": "code",
   "execution_count": null,
   "metadata": {},
   "outputs": [],
   "source": [
    "a = 50\n",
    "b = 5\n",
    "c = 20\n",
    "if a > b:\n",
    "    if a < c:\n",
    "        print(\"The value of a is between b and c\")\n",
    "    else:\n",
    "        print(\"The value of a is NOT NOT NOT between b and c\")\n",
    "elif a < b:\n",
    "    print (\"The value of a is less than b\")\n",
    "else:\n",
    "    print(\"The value of a is same as b\")"
   ]
  },
  {
   "cell_type": "markdown",
   "metadata": {},
   "source": [
    "## while loop"
   ]
  },
  {
   "cell_type": "code",
   "execution_count": null,
   "metadata": {},
   "outputs": [],
   "source": [
    "i = 0\n",
    "# loops until expression evaluates to false\n",
    "while( i < 10 ):\n",
    "    print(\"'{} < 10' => {}\".format(i, i < 10))\n",
    "    i = i + 1\n",
    "print(\"Thank you!\")"
   ]
  },
  {
   "cell_type": "markdown",
   "metadata": {},
   "source": [
    "### Infinite loop"
   ]
  },
  {
   "cell_type": "code",
   "execution_count": null,
   "metadata": {},
   "outputs": [],
   "source": [
    "i = 0\n",
    "while(i < 10):\n",
    "    x = i + 1    \n",
    "    print(x)\n",
    "    \n",
    "print('wat')"
   ]
  },
  {
   "cell_type": "markdown",
   "metadata": {},
   "source": [
    "## Practice #1: Keep guessing!\n",
    "\n",
    "Write a program that allows the user to guess the answer to the question, “Which U.S. president was born on July 4?”\n",
    "\n",
    "Sample Interaction\n",
    "\n",
    "Which US president was born on July 4th?: Barack Obama\n",
    "\n",
    "Enter another guess: Bill Clinton\n",
    "\n",
    "Enter another guess: George Bush\n",
    "\n",
    "Enter another guess: Calvin Coolidge\n",
    "\n",
    "answer = \"Calvin Coolidge\"\n",
    "guess = \"\"Thank you!"
   ]
  },
  {
   "cell_type": "code",
   "execution_count": null,
   "metadata": {},
   "outputs": [],
   "source": [
    "answer = \"Calvin Coolidge\"\n",
    "guess = \"\"\n",
    "\n",
    "while guess != answer:\n",
    "    if guess == \"\":\n",
    "        guess = input(\"Which U.S. president was born on July 4?\")\n",
    "    else:\n",
    "        guess = input(\"Nope. Try again\")\n",
    "        \n",
    "print(\"You got it!\")\n"
   ]
  },
  {
   "cell_type": "code",
   "execution_count": null,
   "metadata": {},
   "outputs": [],
   "source": [
    "# this is another and more preferable way to do it....\n",
    "# look! no if/else statements\n",
    "\n",
    "answer = \"Calvin Coolidge\"\n",
    "guess = input(\"Which U.S. president was born on July 4?\")\n",
    "\n",
    "while guess != answer:\n",
    "    guess = input(\"Nope. Try again\")\n",
    "        \n",
    "print(\"You got it!\")\n"
   ]
  },
  {
   "cell_type": "markdown",
   "metadata": {},
   "source": [
    "## Modified Practice #1: Limited guesses with hints\n",
    "\n",
    "Write a program that allows the user **ten tries** to answer the question, “Which U.S. president was born on July 4?”\n",
    "\n",
    "After three incorrect guesses, the program should display the hint, “He once said, ‘If you don’t say anything, you won’t be called upon to repeat it.’”\n",
    "\n",
    "After seven incorrect guesses, the program should give the hint, “His nickname was ‘Silent Cal.’\n"
   ]
  },
  {
   "cell_type": "code",
   "execution_count": null,
   "metadata": {},
   "outputs": [],
   "source": [
    "hint1 = \"He once said, ‘If you don’t say anything, you won’t be called upon to repeat it.\"\n",
    "hint2 = \"His nickname was 'Silent Cal'\"\n",
    "answer = \"Calvin Coolidge\"\n",
    "guess_count = 1\n",
    "guess = input(\"Which U.S. president was born on July 4?\")\n",
    "\n",
    "while guess != answer:\n",
    "#     print(\"this is guess #\" + str(guess_count))\n",
    "    guess_count = guess_count + 1 # increment count\n",
    "    guess = input(\"Nope. Try again\")\n",
    "    \n",
    "    if guess_count == 4:\n",
    "        print(\"Here's a hint: '{}'\".format(hint1))\n",
    "    elif guess_count == 8:\n",
    "        print(\"Here's another hint: '{}'\".format(hint2))\n",
    "    elif guess_count == 11:\n",
    "        print(\"you need to repeat middle school\")\n",
    "        break\n",
    "        \n",
    "if guess == answer:\n",
    "    print(\"You got it\")\n"
   ]
  },
  {
   "cell_type": "markdown",
   "metadata": {},
   "source": [
    "## for loop"
   ]
  },
  {
   "cell_type": "code",
   "execution_count": null,
   "metadata": {},
   "outputs": [],
   "source": [
    "for i in range(10):\n",
    "    print(i)"
   ]
  },
  {
   "cell_type": "code",
   "execution_count": 3,
   "metadata": {},
   "outputs": [
    {
     "name": "stdout",
     "output_type": "stream",
     "text": [
      "Jack is ok\n",
      "Jill is ok\n",
      "Jane is ok\n",
      "Jim is ok\n"
     ]
    }
   ],
   "source": [
    "names = ['Jack', 'Jill', 'Jane', 'Jim']\n",
    "for name in names:\n",
    "    print(f\"{name} is ok\")"
   ]
  },
  {
   "cell_type": "markdown",
   "metadata": {},
   "source": [
    "### Practice #2 Printing odd numbers betwen 0 and 15 (excluded)"
   ]
  },
  {
   "cell_type": "code",
   "execution_count": 5,
   "metadata": {},
   "outputs": [
    {
     "name": "stdout",
     "output_type": "stream",
     "text": [
      "1\n",
      "3\n",
      "5\n",
      "7\n",
      "9\n",
      "11\n",
      "13\n"
     ]
    }
   ],
   "source": [
    "for n in range(15):\n",
    "    if n % 2 != 0:\n",
    "        print(n)\n",
    "    "
   ]
  },
  {
   "cell_type": "code",
   "execution_count": 7,
   "metadata": {},
   "outputs": [
    {
     "name": "stdout",
     "output_type": "stream",
     "text": [
      "1\n",
      "3\n",
      "5\n",
      "7\n",
      "9\n",
      "11\n",
      "13\n"
     ]
    }
   ],
   "source": [
    "for n in range(1,15,2):\n",
    "    print(n)"
   ]
  },
  {
   "cell_type": "markdown",
   "metadata": {},
   "source": [
    "### Practice #2: Write a program to accept a number n and prints the sum of first n positive integers\n",
    "\n",
    "###### Sample Interaction:\n",
    "\n",
    "Enter a number: 5\n",
    "\n",
    "The sum of first 5 numbers is 15\n"
   ]
  },
  {
   "cell_type": "code",
   "execution_count": 19,
   "metadata": {},
   "outputs": [
    {
     "name": "stdout",
     "output_type": "stream",
     "text": [
      "give me a number: 5\n",
      "15\n"
     ]
    }
   ],
   "source": [
    "limit = int(input(\"give me a number: \"))\n",
    "total = 0\n",
    "for i in range(limit+1):\n",
    "    total = total + i\n",
    "print(total)\n",
    "        "
   ]
  },
  {
   "cell_type": "markdown",
   "metadata": {},
   "source": [
    "## More on range() statement"
   ]
  },
  {
   "cell_type": "code",
   "execution_count": 8,
   "metadata": {},
   "outputs": [],
   "source": [
    "range?"
   ]
  },
  {
   "cell_type": "markdown",
   "metadata": {
    "collapsed": true
   },
   "source": [
    "### range(start, stop, step)"
   ]
  },
  {
   "cell_type": "code",
   "execution_count": null,
   "metadata": {},
   "outputs": [],
   "source": [
    "for i in range(4,34,3):\n",
    "    print(i)\n"
   ]
  },
  {
   "cell_type": "code",
   "execution_count": null,
   "metadata": {},
   "outputs": [],
   "source": [
    "# solution to #5 with range()\n",
    "for i in range(1,15,2):\n",
    "    print(i)"
   ]
  },
  {
   "cell_type": "markdown",
   "metadata": {},
   "source": [
    "## import random"
   ]
  },
  {
   "cell_type": "code",
   "execution_count": 10,
   "metadata": {},
   "outputs": [],
   "source": [
    "import random"
   ]
  },
  {
   "cell_type": "code",
   "execution_count": 16,
   "metadata": {},
   "outputs": [],
   "source": [
    "random.randint?"
   ]
  },
  {
   "cell_type": "code",
   "execution_count": 15,
   "metadata": {},
   "outputs": [
    {
     "data": {
      "text/plain": [
       "2278162"
      ]
     },
     "execution_count": 15,
     "metadata": {},
     "output_type": "execute_result"
    }
   ],
   "source": [
    "random.randint(20,4000000)\n"
   ]
  },
  {
   "cell_type": "markdown",
   "metadata": {},
   "source": [
    "## Extra Practice\n",
    "use the random module, looping and flow control to complete the following program"
   ]
  },
  {
   "cell_type": "code",
   "execution_count": null,
   "metadata": {},
   "outputs": [],
   "source": [
    "# use random to pick a number between 1 and 10\n",
    "\n",
    "# try to guess the number, return 'higher' or 'lower' if incorrect\n",
    "# celebrate when the correct number is guessed\n",
    "# end the program if the user chooses the same number twice in a row\n",
    "\n",
    "rando = random.randint(1,100)\n",
    "guess = 0\n",
    "guess_count = 0\n",
    "guess_limit = 20\n",
    "\n",
    "while guess != rando:\n",
    "    guess_count = guess_count + 1\n",
    "    last_guess = guess\n",
    "    guess = int(input(\"Pick a number: \"))\n",
    "    \n",
    "    if guess == last_guess:\n",
    "        print(\"can't pick the same number again\")\n",
    "        break\n",
    "    elif guess == rando:\n",
    "        print(\"Correct!\")\n",
    "    elif guess < rando:\n",
    "        print(\"Higher\")\n",
    "    else:\n",
    "        print(\"Lower\")\n",
    "        \n",
    "    if guess_count == guess_limit:\n",
    "        print(\"you guessed {} times and still wrong. Game over\".format(guess_limit))\n",
    "        break"
   ]
  }
 ],
 "metadata": {
  "kernelspec": {
   "display_name": "Python 3",
   "language": "python",
   "name": "python3"
  },
  "language_info": {
   "codemirror_mode": {
    "name": "ipython",
    "version": 3
   },
   "file_extension": ".py",
   "mimetype": "text/x-python",
   "name": "python",
   "nbconvert_exporter": "python",
   "pygments_lexer": "ipython3",
   "version": "3.7.4"
  }
 },
 "nbformat": 4,
 "nbformat_minor": 2
}
