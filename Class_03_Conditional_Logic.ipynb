{
 "cells": [
  {
   "cell_type": "markdown",
   "metadata": {},
   "source": [
    "# Programming Flow Control"
   ]
  },
  {
   "cell_type": "markdown",
   "metadata": {},
   "source": [
    "## Logical expressions, and Comparison and Boolean operators"
   ]
  },
  {
   "cell_type": "code",
   "execution_count": null,
   "metadata": {},
   "outputs": [],
   "source": [
    "2 + 3 < 8"
   ]
  },
  {
   "cell_type": "code",
   "execution_count": null,
   "metadata": {},
   "outputs": [],
   "source": [
    "( 2 + 3 ) < 8"
   ]
  },
  {
   "cell_type": "code",
   "execution_count": null,
   "metadata": {},
   "outputs": [],
   "source": [
    "4 + 5 < 2"
   ]
  },
  {
   "cell_type": "code",
   "execution_count": null,
   "metadata": {},
   "outputs": [],
   "source": [
    "2 + 3 == 5"
   ]
  },
  {
   "cell_type": "code",
   "execution_count": null,
   "metadata": {},
   "outputs": [],
   "source": [
    "(2 + 3 < 8) and ( 4 + 5 < 2)"
   ]
  },
  {
   "cell_type": "code",
   "execution_count": null,
   "metadata": {},
   "outputs": [],
   "source": [
    "( (2 + 3) < 8) or (4 + 5 < 2)"
   ]
  },
  {
   "cell_type": "code",
   "execution_count": null,
   "metadata": {},
   "outputs": [],
   "source": [
    "name = 'Alice'\n",
    "( (2 + 3) < 8) and (   (4 + 5 < 2) or (name == 'Alice')   )"
   ]
  },
  {
   "cell_type": "code",
   "execution_count": null,
   "metadata": {},
   "outputs": [],
   "source": [
    "not (4 + 5 < 2 )"
   ]
  },
  {
   "cell_type": "code",
   "execution_count": null,
   "metadata": {},
   "outputs": [],
   "source": [
    "( (2+3) < 8) and not (4+5<2)"
   ]
  },
  {
   "cell_type": "markdown",
   "metadata": {},
   "source": [
    "## Conditional Execution: if statement\n",
    "\n",
    "Note the indentation after the if statement"
   ]
  },
  {
   "cell_type": "code",
   "execution_count": null,
   "metadata": {},
   "outputs": [],
   "source": [
    "name = input(\"Enter a name: \")\n",
    "\n",
    "if name == 'Alice':\n",
    "    print('Hi, Alice!')\n",
    "    print('How are you doing?')\n",
    "\n",
    "print('Thank You')"
   ]
  },
  {
   "cell_type": "markdown",
   "metadata": {},
   "source": [
    "## Conditional Execution: if else statement"
   ]
  },
  {
   "cell_type": "code",
   "execution_count": null,
   "metadata": {},
   "outputs": [],
   "source": [
    "name = input('Enter a name')\n",
    "\n",
    "if name == 'Alice':\n",
    "    print('Hi, Alice!')\n",
    "else:\n",
    "    print(\"No! You aren't Alice!\")\n",
    "print('Thank You')"
   ]
  },
  {
   "cell_type": "markdown",
   "metadata": {},
   "source": [
    "## Conditional Execution: if elif else statement"
   ]
  },
  {
   "cell_type": "code",
   "execution_count": null,
   "metadata": {},
   "outputs": [],
   "source": [
    "name = input('Enter a name')\n",
    "if name == 'Alice':\n",
    "    print('Hi, Alice!')\n",
    "elif name =='Sam':\n",
    "    print('Hi, Sam')\n",
    "elif name =='Dan':\n",
    "    print('Hi, Dan')\n",
    "elif name =='Jon':\n",
    "    print('Hi, Jon')\n",
    "elif name =='Jon':\n",
    "    print('Hi, Jon #2')\n",
    "elif name =='Mike':\n",
    "    print('Hi, Mike')\n",
    "else:\n",
    "    print(\"No! You aren't Alice or Sam! OR EVEN DAN!!!!!!!!!\")\n"
   ]
  },
  {
   "cell_type": "code",
   "execution_count": null,
   "metadata": {},
   "outputs": [],
   "source": [
    "# a little about numbers...\n",
    "\n",
    "if 1:\n",
    "    print(\"1 is true\")\n",
    "    \n",
    "if 42:\n",
    "    print(\"42 is also true\")\n",
    "    \n",
    "    \n",
    "if 0:\n",
    "    print(\"0 is true???\")    \n",
    "else:\n",
    "    print(\"0 is false\")"
   ]
  },
  {
   "cell_type": "code",
   "execution_count": null,
   "metadata": {},
   "outputs": [],
   "source": [
    "# a common use of 0 as false...\n",
    "\n",
    "list_of_names = []\n",
    "\n",
    "print(len(list_of_names))\n",
    "\n",
    "if len(list_of_names):\n",
    "    print(\"names are {}\".format(list_of_names))\n",
    "else:\n",
    "    print(\"There are no names!\")"
   ]
  },
  {
   "cell_type": "markdown",
   "metadata": {},
   "source": [
    "## Fancy print statements"
   ]
  },
  {
   "cell_type": "code",
   "execution_count": null,
   "metadata": {},
   "outputs": [],
   "source": [
    "# round() is a useful function\n",
    "\n",
    "num_with_decimals = input(\"Give me a number with decimals\")\n",
    "num_as_float = float(num_with_decimals)\n",
    "print(\"your number is {}\".format(num_as_float))\n",
    "print(\"your number rounded is {}\".format(round(num_as_float,1)))"
   ]
  },
  {
   "cell_type": "code",
   "execution_count": null,
   "metadata": {},
   "outputs": [],
   "source": [
    "# explicit placement order\n",
    "\n",
    "age = 23\n",
    "height = 5.23623\n",
    "print(\"The age is {1} and the height is {0}\".format(height,age))"
   ]
  },
  {
   "cell_type": "code",
   "execution_count": null,
   "metadata": {},
   "outputs": [],
   "source": [
    "# inline formatting\n",
    "\n",
    "age = 23\n",
    "height = 5.23623\n",
    "print(\"The age is {1} and the height is {0:.2f}\".format(height, age))"
   ]
  },
  {
   "cell_type": "code",
   "execution_count": null,
   "metadata": {},
   "outputs": [],
   "source": [
    "# a more succinct way of using fancy print statements\n",
    "print(f\"The age is {age} and the height is {height:.2f}\")"
   ]
  },
  {
   "cell_type": "markdown",
   "metadata": {},
   "source": [
    "## Practice #1\n",
    "\n",
    "A supermarket sells apples for $2.50 per pound. Write a cashier’s program that requests the number of pounds and the amount of cash tendered as input and displays the change from the transaction. \n",
    "\n",
    "Sample Interactions:"
   ]
  },
  {
   "cell_type": "markdown",
   "metadata": {},
   "source": [
    "Enter number of pounds of apples: 6\n",
    "\n",
    "Enter payment: 20\n",
    "\n",
    "Your change is $5.00\n"
   ]
  },
  {
   "cell_type": "code",
   "execution_count": 4,
   "metadata": {},
   "outputs": [
    {
     "name": "stdout",
     "output_type": "stream",
     "text": [
      "How many pounds of apples do you want? 6\n",
      "How much money do you have? 20\n",
      "total cost:  15.0\n",
      "remainder -5.0\n",
      "you get 5.0 back in change\n"
     ]
    }
   ],
   "source": [
    "price = 2.50\n",
    "\n",
    "amount = int(input(\"How many pounds of apples do you want? \"))\n",
    "payment = float(input(\"How much money do you have? \"))\n",
    "\n",
    "total_cost = amount * price\n",
    "print(\"total cost: \", total_cost)\n",
    "\n",
    "remainder = total_cost - payment\n",
    "\n",
    "print('remainder', remainder)\n",
    "\n",
    "if remainder > 0:\n",
    "    message = \"you still owe {}\".format(remainder)\n",
    "elif remainder < 0:\n",
    "    message = \"you get {} back in change\".format(remainder * -1)\n",
    "else:\n",
    "    message = \"Exact change!\"\n",
    "    \n",
    "\n",
    "# complete\n",
    "\n",
    "print(message)"
   ]
  },
  {
   "cell_type": "markdown",
   "metadata": {},
   "source": [
    "## Practice #2\n",
    "\n",
    "What are the conditions for a leap year? It should be multiple of 4 but not a multiple of 100\n",
    "\n",
    "Write a program that takes the year number as input and outputs if it is leap year or not. \n",
    "\n",
    "Sample interactions:"
   ]
  },
  {
   "cell_type": "markdown",
   "metadata": {},
   "source": [
    "Enter the year number? 2008\n",
    "\n",
    "The year 2008 is a leap year \n",
    "\n",
    "Enter the year number? 1900\n",
    "\n",
    "The year 1900 is a common year"
   ]
  },
  {
   "cell_type": "code",
   "execution_count": null,
   "metadata": {},
   "outputs": [],
   "source": [
    "# Modulus returns the remainder after division so if result is not 0, it's not divisible\n",
    "# print(123 % 4)\n",
    "\n",
    "year = int(input(\"give me a year: \"))\n",
    "\n",
    "# store evaluation of conditions in well named variables\n",
    "divisible_by_4 = year % 4 == 0\n",
    "divisible_by_100 = year % 100 == 0\n",
    "print(divisible_by_4, divisible_by_100)\n",
    "\n",
    "# use store evaluations in conditional statements. See how readable?\n",
    "if divisible_by_4 and not divisible_by_100:\n",
    "    print(\"its a leap year\")\n",
    "else:\n",
    "    print(\"Not a leap year\")"
   ]
  },
  {
   "cell_type": "code",
   "execution_count": null,
   "metadata": {},
   "outputs": [],
   "source": [
    "# Example 2\n",
    "# this one is also straighforward but the evaluations are inline\n",
    "year = int(input(\"give me a year: \"))\n",
    "\n",
    "if year % 4 == 0 and year % 100 != 0:\n",
    "    print(\"its a leap year\")\n",
    "else:\n",
    "    print(\"Not a leap year\")"
   ]
  },
  {
   "cell_type": "code",
   "execution_count": null,
   "metadata": {},
   "outputs": [],
   "source": [
    "# Example 3\n",
    "\n",
    "# this one is using the mod value (0 is divisible, all other numbers are not)\n",
    "# this one is harder to read\n",
    "\n",
    "year = int(input(\"give me a year: \"))\n",
    "\n",
    "if not year % 4 and year % 100:\n",
    "    print(\"its a leap year\")\n",
    "else:\n",
    "    print(\"Not a leap year\")"
   ]
  },
  {
   "cell_type": "markdown",
   "metadata": {},
   "source": [
    "**NOTE**: We coded simplified conditions for a leap year. From *Nicolas Klebusits*, I learned that there is an addtional condition. If a year is a multiple of 400 it is still a leap year, even though it is a multiple of 100. For example, 2000 is a leap year as it is a multiple of 400. See if you can modify the above code to incorporate this additional condition. "
   ]
  },
  {
   "cell_type": "code",
   "execution_count": null,
   "metadata": {},
   "outputs": [],
   "source": [
    "# notice the use of parenthases in this example now that there is an order of execution\n",
    "year = int(input(\"give me a year: \"))\n",
    "\n",
    "if year % 4 == 0 and ( year % 100 != 0 or year % 400 == 0):\n",
    "    print(\"its a leap year\")\n",
    "else:\n",
    "    print(\"Not a leap year\")"
   ]
  }
 ],
 "metadata": {
  "kernelspec": {
   "display_name": "Python 3",
   "language": "python",
   "name": "python3"
  },
  "language_info": {
   "codemirror_mode": {
    "name": "ipython",
    "version": 3
   },
   "file_extension": ".py",
   "mimetype": "text/x-python",
   "name": "python",
   "nbconvert_exporter": "python",
   "pygments_lexer": "ipython3",
   "version": "3.7.4"
  }
 },
 "nbformat": 4,
 "nbformat_minor": 2
}
