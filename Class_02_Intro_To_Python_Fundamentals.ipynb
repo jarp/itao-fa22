{
 "cells": [
  {
   "cell_type": "markdown",
   "metadata": {},
   "source": [
    "# Python Fundamentals"
   ]
  },
  {
   "cell_type": "markdown",
   "metadata": {},
   "source": [
    "## Python as a calculator"
   ]
  },
  {
   "cell_type": "code",
   "execution_count": null,
   "metadata": {},
   "outputs": [],
   "source": [
    "2+3"
   ]
  },
  {
   "cell_type": "code",
   "execution_count": null,
   "metadata": {},
   "outputs": [],
   "source": [
    "15*4"
   ]
  },
  {
   "cell_type": "code",
   "execution_count": null,
   "metadata": {},
   "outputs": [],
   "source": [
    "# ** is a exponent operator\n",
    "3**4"
   ]
  },
  {
   "cell_type": "code",
   "execution_count": null,
   "metadata": {},
   "outputs": [],
   "source": [
    "# Double // provides a quotient \n",
    "8//3"
   ]
  },
  {
   "cell_type": "code",
   "execution_count": null,
   "metadata": {},
   "outputs": [],
   "source": [
    "# Modulo operator provides a reminder\n",
    "54%5"
   ]
  },
  {
   "cell_type": "code",
   "execution_count": null,
   "metadata": {},
   "outputs": [],
   "source": [
    "\"Hello\"*5"
   ]
  },
  {
   "cell_type": "markdown",
   "metadata": {},
   "source": [
    "#### Why “Hello”*5 works, but “Hello” +5 doesn’t? "
   ]
  },
  {
   "cell_type": "code",
   "execution_count": null,
   "metadata": {},
   "outputs": [],
   "source": [
    "\"Hello\"+ \" 5\""
   ]
  },
  {
   "cell_type": "markdown",
   "metadata": {},
   "source": [
    "## Data Types\n",
    "<ul>\n",
    "<li> Integer (int)</li>\n",
    "<li> Floating point (float) - real number </li>\n",
    "<li> String </li>\n",
    "<li> ... many more </li>\n",
    "</ul>"
   ]
  },
  {
   "cell_type": "markdown",
   "metadata": {},
   "source": [
    "### Know the Data Type using type()"
   ]
  },
  {
   "cell_type": "code",
   "execution_count": null,
   "metadata": {},
   "outputs": [],
   "source": [
    "type(2)"
   ]
  },
  {
   "cell_type": "code",
   "execution_count": null,
   "metadata": {
    "scrolled": true
   },
   "outputs": [],
   "source": [
    "type(3.5)"
   ]
  },
  {
   "cell_type": "code",
   "execution_count": null,
   "metadata": {},
   "outputs": [],
   "source": [
    "type(2+2)"
   ]
  },
  {
   "cell_type": "code",
   "execution_count": null,
   "metadata": {},
   "outputs": [],
   "source": [
    "type(4+4.5)"
   ]
  },
  {
   "cell_type": "code",
   "execution_count": null,
   "metadata": {
    "scrolled": true
   },
   "outputs": [],
   "source": [
    "type(\"Jonathan\")"
   ]
  },
  {
   "cell_type": "markdown",
   "metadata": {},
   "source": [
    "## Variable and assignments"
   ]
  },
  {
   "cell_type": "code",
   "execution_count": null,
   "metadata": {},
   "outputs": [],
   "source": [
    "myName = 'Jonathan'\n",
    "myName"
   ]
  },
  {
   "cell_type": "code",
   "execution_count": null,
   "metadata": {},
   "outputs": [],
   "source": [
    "myName"
   ]
  },
  {
   "cell_type": "markdown",
   "metadata": {},
   "source": [
    "### Rules on Variable Names"
   ]
  },
  {
   "cell_type": "markdown",
   "metadata": {},
   "source": [
    "Which of the following are valid variable names\n",
    "<ul>\n",
    "    <li>My_Name</li>\n",
    "    <li>MyName</li>\n",
    "    <li>_you_are_awsome</li>\n",
    "    <li>1_love_my_class </li>\n",
    "    <li>total_$ </li>\n",
    "    <li>Your-Name</li>\n",
    " </ul>"
   ]
  },
  {
   "cell_type": "markdown",
   "metadata": {},
   "source": [
    "### Practice on Assignments"
   ]
  },
  {
   "cell_type": "code",
   "execution_count": null,
   "metadata": {},
   "outputs": [],
   "source": [
    "x = 10\n",
    "y = 15\n",
    "x = x + 15\n",
    "y = x + y +10\n",
    "z = x + y"
   ]
  },
  {
   "cell_type": "code",
   "execution_count": null,
   "metadata": {},
   "outputs": [],
   "source": [
    "z"
   ]
  },
  {
   "cell_type": "markdown",
   "metadata": {},
   "source": [
    "## Print statement"
   ]
  },
  {
   "cell_type": "code",
   "execution_count": null,
   "metadata": {},
   "outputs": [],
   "source": [
    "print(\"Hello World!\")"
   ]
  },
  {
   "cell_type": "code",
   "execution_count": null,
   "metadata": {},
   "outputs": [],
   "source": [
    "# this will not work\n",
    "print(\"Jonathan Arp\"\n"
   ]
  },
  {
   "cell_type": "code",
   "execution_count": null,
   "metadata": {},
   "outputs": [],
   "source": [
    "print(\"ITAO\")"
   ]
  },
  {
   "cell_type": "markdown",
   "metadata": {},
   "source": [
    "Think why the following statement doesn't work"
   ]
  },
  {
   "cell_type": "code",
   "execution_count": null,
   "metadata": {},
   "outputs": [],
   "source": [
    "x = 'Jonathan'\n",
    "print(x+42)\n"
   ]
  },
  {
   "cell_type": "markdown",
   "metadata": {},
   "source": [
    "## Commenting the Code "
   ]
  },
  {
   "cell_type": "markdown",
   "metadata": {},
   "source": [
    "Code commenting is done through '#'. Anything that follows after that will not be executed"
   ]
  },
  {
   "cell_type": "code",
   "execution_count": null,
   "metadata": {},
   "outputs": [],
   "source": [
    "# this is an example of a comment\n",
    "x = 'Jonathan'\n",
    "\n",
    "# This program is used to print my name\n",
    "print(x)\n"
   ]
  },
  {
   "cell_type": "markdown",
   "metadata": {},
   "source": [
    "## Input Statement"
   ]
  },
  {
   "cell_type": "code",
   "execution_count": null,
   "metadata": {},
   "outputs": [],
   "source": [
    "input()"
   ]
  },
  {
   "cell_type": "code",
   "execution_count": null,
   "metadata": {},
   "outputs": [],
   "source": [
    "print(\"What is your name? \")\n",
    "myname = input()\n",
    "print('hello ' + myname)"
   ]
  },
  {
   "cell_type": "code",
   "execution_count": null,
   "metadata": {},
   "outputs": [],
   "source": [
    "myname"
   ]
  },
  {
   "cell_type": "markdown",
   "metadata": {},
   "source": [
    "## Activity: Your First Program"
   ]
  },
  {
   "cell_type": "markdown",
   "metadata": {},
   "source": [
    "Ask the name of the user and greet the user with a welcome message\n",
    "\n",
    "For example, if the user says the name is ‘Jonathan’, then the output should read \n",
    "‘Welcome to Notre Dame, Jonathan’"
   ]
  },
  {
   "cell_type": "code",
   "execution_count": 2,
   "metadata": {},
   "outputs": [
    {
     "name": "stdout",
     "output_type": "stream",
     "text": [
      "what's your name?\n",
      "Jonathan\n",
      "hey there Jonathan! How are you doing?\n"
     ]
    }
   ],
   "source": [
    "# use print to ask for name\n",
    "# capture name\n",
    "# print greeting with name\n",
    "print(\"what's your name?\")\n",
    "name = input()\n",
    "print(\"hey there \" + name + \"! How are you doing?\")"
   ]
  },
  {
   "cell_type": "markdown",
   "metadata": {},
   "source": [
    "## Fancy Print Statement"
   ]
  },
  {
   "cell_type": "code",
   "execution_count": 9,
   "metadata": {},
   "outputs": [
    {
     "name": "stdout",
     "output_type": "stream",
     "text": [
      "Portugal. The Man sang Feel It Still on the album \"Greatest Hits\"!\n"
     ]
    }
   ],
   "source": [
    "song = \"Feel It Still\"\n",
    "album = \"Greatest Hits\"\n",
    "print(\"Portugal. The Man sang {} on the album \\\"{}\\\"!\".format(song, album))\n"
   ]
  },
  {
   "cell_type": "markdown",
   "metadata": {},
   "source": [
    "## Fancy Input Statements"
   ]
  },
  {
   "cell_type": "code",
   "execution_count": null,
   "metadata": {},
   "outputs": [],
   "source": [
    "name = input(\"What is your name\")"
   ]
  },
  {
   "cell_type": "code",
   "execution_count": null,
   "metadata": {},
   "outputs": [],
   "source": [
    "name"
   ]
  },
  {
   "cell_type": "markdown",
   "metadata": {},
   "source": [
    "## Activity: Modified First Program"
   ]
  },
  {
   "cell_type": "markdown",
   "metadata": {},
   "source": [
    "Use fancy print and fancy input statements this time. \n",
    "\n",
    "Ask the name of the user and greet them a fancy welcome message\n",
    "\n",
    "For example, if the user says the name is ‘Jonathan’, then the output should read \n",
    "‘Hey! Jonathan! Welcome to Notre Dame’"
   ]
  },
  {
   "cell_type": "code",
   "execution_count": null,
   "metadata": {},
   "outputs": [],
   "source": [
    "# ask name using fancy inputs\n",
    "# print greeting using fancy outputs\n"
   ]
  },
  {
   "cell_type": "markdown",
   "metadata": {},
   "source": [
    "**NOTE**: The **\\\\** is used as a escape character, informing python to not consider the \" as end of string but to include it as a part of string it is trying to print. "
   ]
  },
  {
   "cell_type": "markdown",
   "metadata": {},
   "source": [
    "## Converting between Data Types"
   ]
  },
  {
   "cell_type": "code",
   "execution_count": null,
   "metadata": {},
   "outputs": [],
   "source": [
    "number = int(input(\"input a number\"))"
   ]
  },
  {
   "cell_type": "code",
   "execution_count": null,
   "metadata": {},
   "outputs": [],
   "source": [
    "number = input(\"input a number\")\n",
    "int_number = int(number)"
   ]
  },
  {
   "cell_type": "code",
   "execution_count": null,
   "metadata": {},
   "outputs": [],
   "source": [
    "type(number)"
   ]
  },
  {
   "cell_type": "markdown",
   "metadata": {},
   "source": [
    "Though you have entered a number it is stored as a string. This is because the input() function always gives it as a string. \n",
    "\n",
    "You can convert to a integer by the int function. "
   ]
  },
  {
   "cell_type": "code",
   "execution_count": null,
   "metadata": {},
   "outputs": [],
   "source": [
    "number = int(number)"
   ]
  },
  {
   "cell_type": "code",
   "execution_count": null,
   "metadata": {},
   "outputs": [],
   "source": [
    "type(number)"
   ]
  },
  {
   "cell_type": "markdown",
   "metadata": {},
   "source": [
    "Now, observe that the type of the number is changed from str to int. "
   ]
  },
  {
   "cell_type": "markdown",
   "metadata": {},
   "source": [
    "### Know the data type of a variable using type()"
   ]
  },
  {
   "cell_type": "code",
   "execution_count": null,
   "metadata": {},
   "outputs": [],
   "source": [
    "number = input(\"Input a number\")\n"
   ]
  },
  {
   "cell_type": "code",
   "execution_count": null,
   "metadata": {},
   "outputs": [],
   "source": [
    "type(number)"
   ]
  },
  {
   "cell_type": "code",
   "execution_count": null,
   "metadata": {},
   "outputs": [],
   "source": [
    "number = int(number)"
   ]
  },
  {
   "cell_type": "code",
   "execution_count": null,
   "metadata": {},
   "outputs": [],
   "source": [
    "type(number)"
   ]
  },
  {
   "cell_type": "markdown",
   "metadata": {},
   "source": [
    "### Errors between conversions"
   ]
  },
  {
   "cell_type": "code",
   "execution_count": 12,
   "metadata": {},
   "outputs": [
    {
     "ename": "ValueError",
     "evalue": "invalid literal for int() with base 10: 'five'",
     "output_type": "error",
     "traceback": [
      "\u001b[0;31m---------------------------------------------------------------------------\u001b[0m",
      "\u001b[0;31mValueError\u001b[0m                                Traceback (most recent call last)",
      "\u001b[0;32m<ipython-input-12-d4fc7001fba3>\u001b[0m in \u001b[0;36m<module>\u001b[0;34m\u001b[0m\n\u001b[0;32m----> 1\u001b[0;31m \u001b[0mint\u001b[0m\u001b[0;34m(\u001b[0m\u001b[0;34m\"five\"\u001b[0m\u001b[0;34m)\u001b[0m\u001b[0;34m\u001b[0m\u001b[0;34m\u001b[0m\u001b[0m\n\u001b[0m",
      "\u001b[0;31mValueError\u001b[0m: invalid literal for int() with base 10: 'five'"
     ]
    }
   ],
   "source": [
    "int(\"five\")"
   ]
  },
  {
   "cell_type": "code",
   "execution_count": null,
   "metadata": {},
   "outputs": [],
   "source": [
    "# convert between different types of numbers\n",
    "print(int(4.2))\n",
    "print(float(4))"
   ]
  },
  {
   "cell_type": "code",
   "execution_count": null,
   "metadata": {},
   "outputs": [],
   "source": [
    "# will this work?\n",
    "\n",
    "number = \"4.2\"\n",
    "int(number)"
   ]
  },
  {
   "cell_type": "markdown",
   "metadata": {},
   "source": [
    "## Practice Exercise #1\n",
    "\n",
    "Write a program to ask the length and width of a rectangle and print the area of a rectangle. \n",
    "\n",
    "Try to use fancy input and print statements to format your inputs and outputs with all information. \n"
   ]
  },
  {
   "cell_type": "code",
   "execution_count": 14,
   "metadata": {},
   "outputs": [
    {
     "name": "stdout",
     "output_type": "stream",
     "text": [
      "What is the width?3\n",
      "What is the height?9\n",
      "Total square feet is 27\n"
     ]
    }
   ],
   "source": [
    "# ask for width\n",
    "# ask for height\n",
    "# do the calculation\n",
    "# print the output\n",
    "\n",
    "width = int(input(\"What is the width?\"))\n",
    "height = int(input(\"What is the height?\"))\n",
    "sqr_feet = width * height\n",
    "print(\"Total square feet is {}\".format(sqr_feet))"
   ]
  },
  {
   "cell_type": "markdown",
   "metadata": {
    "collapsed": true
   },
   "source": [
    "## Practice Exercise #2\n",
    "\n",
    "During an aerobic workout, you should maintain your training heart rate. Your training heart rate is computed as:\n",
    ".7 × (220 −𝑎)+.3 × 𝑟\n",
    "\n",
    "Write a program to ask the person’s age (𝑎) and the resting heart rate (𝑟) and outputs the training heart rate. \n",
    "\n"
   ]
  },
  {
   "cell_type": "code",
   "execution_count": 1,
   "metadata": {},
   "outputs": [
    {
     "name": "stdout",
     "output_type": "stream",
     "text": [
      "What is your resting heart rate? 68\n",
      "What is your age? 74\n",
      "Your training heart rate is 122.6.\n"
     ]
    }
   ],
   "source": [
    "# ask for age and resting heart rate\n",
    "heart_rate = input(\"What is your resting heart rate? \")\n",
    "heart_rate = int(heart_rate) # <<== not the best way to code \n",
    "\n",
    "age = int(input(\"What is your age? \"))\n",
    "\n",
    "# do calculation\n",
    "trainging_heart_rate = (.7 * (220 - age) + .3 * heart_rate)\n",
    "\n",
    "# print result in a friendly message\n",
    "print(\"Your training heart rate is {}.\".format(trainging_heart_rate))"
   ]
  },
  {
   "cell_type": "markdown",
   "metadata": {},
   "source": [
    "## Practice Exercise #3\n",
    "\n",
    "Write a program in Python to prompt the user for an initial deposit amount and calculate the balance after 3 years when the amount is deposited in a savings account at 5% interest compounded annually.\n",
    "\n",
    "For example, the balance of a 100 deposit after 3 years at 5% interest is 115.76!"
   ]
  },
  {
   "cell_type": "code",
   "execution_count": 5,
   "metadata": {},
   "outputs": [
    {
     "name": "stdout",
     "output_type": "stream",
     "text": [
      "What is your initial deposit? 100\n",
      "Your deposit of 100 will be 115.76 in 3 years\n"
     ]
    }
   ],
   "source": [
    "# Set the rate percentage\n",
    "rate = 5\n",
    "years = 3\n",
    "\n",
    "# Gather details about deposit and number of years the loan is for\n",
    "init_deposit = int(input(\"What is your initial deposit? \"))\n",
    "\n",
    "# Calculate the result\n",
    "future_deposit = (init_deposit * (1 + (rate/100))**years)\n",
    "\n",
    "# Print the result\n",
    "print(\"Your deposit of {1} will be {0:.2f} in {2} years\".format(future_deposit, init_deposit, years))\n"
   ]
  },
  {
   "cell_type": "markdown",
   "metadata": {},
   "source": [
    "## Practice Exercise # 4\n",
    "\n",
    "Write a program in Python to determine the estimated amount of time left to finish a book, given the amount of time already used, the current page, and the total number of pages.\n",
    "\n"
   ]
  },
  {
   "cell_type": "code",
   "execution_count": null,
   "metadata": {},
   "outputs": [],
   "source": []
  }
 ],
 "metadata": {
  "kernelspec": {
   "display_name": "Python 3",
   "language": "python",
   "name": "python3"
  },
  "language_info": {
   "codemirror_mode": {
    "name": "ipython",
    "version": 3
   },
   "file_extension": ".py",
   "mimetype": "text/x-python",
   "name": "python",
   "nbconvert_exporter": "python",
   "pygments_lexer": "ipython3",
   "version": "3.7.4"
  }
 },
 "nbformat": 4,
 "nbformat_minor": 2
}
