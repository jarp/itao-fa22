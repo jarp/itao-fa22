{
 "cells": [
  {
   "cell_type": "markdown",
   "metadata": {},
   "source": [
    "## Functions: Defining your first function"
   ]
  },
  {
   "cell_type": "code",
   "execution_count": null,
   "metadata": {},
   "outputs": [],
   "source": [
    "# Simple code to show the reusability of code using functions\n",
    "\n",
    "x = 15\n",
    "x = x + 20\n",
    "x = x**2\n",
    "x = x + 156\n",
    "x = x**3\n",
    "x = x**0.75\n",
    "\n",
    "print(x)"
   ]
  },
  {
   "cell_type": "code",
   "execution_count": null,
   "metadata": {},
   "outputs": [],
   "source": [
    "# What if I need to know what happens if I assign the value of the variable to 28 initially\n",
    "\n",
    "y = 28\n",
    "y = y + 20\n",
    "y = y**2\n",
    "y = y + 156\n",
    "y = y**3\n",
    "y = y**0.75\n",
    "\n",
    "print(y)"
   ]
  },
  {
   "cell_type": "code",
   "execution_count": null,
   "metadata": {},
   "outputs": [],
   "source": [
    "def my_special_formula(x):\n",
    "    x = x + 20\n",
    "    x = x**2\n",
    "    x = x +156\n",
    "    x = x**3\n",
    "    x = x**0.75\n",
    "#     print(\"returning value: \", x)\n",
    "\n",
    "    return x"
   ]
  },
  {
   "cell_type": "code",
   "execution_count": null,
   "metadata": {},
   "outputs": [],
   "source": [
    "print(my_special_formula(15))\n",
    "print(my_special_formula(28))"
   ]
  },
  {
   "cell_type": "code",
   "execution_count": null,
   "metadata": {},
   "outputs": [],
   "source": [
    "print(my_special_formula(125))"
   ]
  },
  {
   "cell_type": "code",
   "execution_count": null,
   "metadata": {},
   "outputs": [],
   "source": [
    "# THE RETURN VALUE OF A FUNCTION IS STORED IN A VARIABLE IN THE BELOW ASSIGNMENT\n",
    "\n",
    "answer = my_special_formula(25)\n",
    "print(answer)"
   ]
  },
  {
   "cell_type": "markdown",
   "metadata": {},
   "source": [
    "## Functions with no return statement"
   ]
  },
  {
   "cell_type": "code",
   "execution_count": null,
   "metadata": {},
   "outputs": [],
   "source": [
    "def function_with_return(num):\n",
    "    return num ** num * .3\n",
    "\n",
    "print(function_with_return(9))\n",
    "print(type(function_with_return(9)))\n"
   ]
  },
  {
   "cell_type": "code",
   "execution_count": null,
   "metadata": {},
   "outputs": [],
   "source": [
    "def function_with_no_return(num):\n",
    "    num ** num\n",
    "\n",
    "print(function_with_no_return(9))\n",
    "print(type(function_with_no_return(9)))\n"
   ]
  },
  {
   "cell_type": "code",
   "execution_count": null,
   "metadata": {},
   "outputs": [],
   "source": [
    "def print_fancy(x):\n",
    "    print(\"I'm printing '{}' using a function\".format(x))\n",
    "\n",
    "print_fancy(9)\n",
    "print_fancy('ITAO')\n",
    "return_val = print_fancy(9)\n",
    "type(return_val)"
   ]
  },
  {
   "cell_type": "code",
   "execution_count": null,
   "metadata": {},
   "outputs": [],
   "source": [
    "testing = print_fancy(232)\n",
    "print(testing)"
   ]
  },
  {
   "cell_type": "code",
   "execution_count": null,
   "metadata": {},
   "outputs": [],
   "source": [
    "# this is not important for the class but good to know...\n",
    "\n",
    "if testing == True:\n",
    "    print(f\"None evaluates as True, {type(testing)}\")\n",
    "else:\n",
    "    print(f\"`None == True` evaluates as False, {type(testing)}\")"
   ]
  },
  {
   "cell_type": "code",
   "execution_count": null,
   "metadata": {},
   "outputs": [],
   "source": [
    "if None:\n",
    "    print(\"None is.... true?\")\n",
    "else:\n",
    "    print(\"None is... false?\")"
   ]
  },
  {
   "cell_type": "markdown",
   "metadata": {},
   "source": [
    "## Muliple Assignment\n",
    "you can assign values to multiple variables in a single line"
   ]
  },
  {
   "cell_type": "code",
   "execution_count": null,
   "metadata": {},
   "outputs": [],
   "source": [
    "# this will be a common practice once get further into data analytics\n",
    "\n",
    "a,b,c = 1,2,3\n",
    "print(a)\n",
    "print(b)\n",
    "print(c)"
   ]
  },
  {
   "cell_type": "code",
   "execution_count": null,
   "metadata": {},
   "outputs": [],
   "source": [
    "import random\n",
    "def three_random_numbers():\n",
    "    return random.randint(0,100), random.randint(100,1000), random.randint(1000,100000)\n",
    "\n",
    "a,b,c = three_random_numbers()\n",
    "\n",
    "print(a)\n",
    "print(b)\n",
    "print(c)"
   ]
  },
  {
   "cell_type": "markdown",
   "metadata": {},
   "source": [
    "## Practice: Function that sums positive even numbers up to 𝑁\n",
    "\n",
    "* Write a function that sums the positive even numbers up to 𝑁, where 𝑁 is a parameter to the function.\n",
    "    * The function should **return** the summation. \n",
    "\n",
    "* Write a program that tests the function with various parameter values. \n",
    "    * Store the returned value in a variable and print it.\n"
   ]
  },
  {
   "cell_type": "code",
   "execution_count": null,
   "metadata": {},
   "outputs": [],
   "source": [
    "# Function called `sum_even` here\n"
   ]
  },
  {
   "cell_type": "code",
   "execution_count": null,
   "metadata": {},
   "outputs": [],
   "source": [
    "# this should run if function is created\n",
    "# enter 7 returns 12 (2,4,6)\n",
    "# enter 16 returns 56\n",
    "\n",
    "sum_total = sum_even(7)\n",
    "print(sum_total)"
   ]
  },
  {
   "cell_type": "markdown",
   "metadata": {},
   "source": [
    "## Fibonacci Series with Functions\n",
    "\n"
   ]
  },
  {
   "cell_type": "code",
   "execution_count": null,
   "metadata": {},
   "outputs": [],
   "source": [
    "# create a function called `fibonacci`\n"
   ]
  },
  {
   "cell_type": "code",
   "execution_count": null,
   "metadata": {},
   "outputs": [],
   "source": [
    "# call the function and pass the number of  100\n",
    "# correct sequence will be 0, 1, 1, 2, 3, 5, 8, 13, 21, 34, ...\n",
    "fibonacci(100)"
   ]
  },
  {
   "cell_type": "markdown",
   "metadata": {},
   "source": [
    "## Global vs. Local Scope"
   ]
  },
  {
   "cell_type": "code",
   "execution_count": null,
   "metadata": {},
   "outputs": [],
   "source": [
    "import math\n",
    "number = 5\n",
    "sin = math.sin(number)\n",
    "cos = math.cos(number)\n",
    "print(\"Sin of {0} is {1} and cos is {2}\".format(number, sin, cos))"
   ]
  },
  {
   "cell_type": "markdown",
   "metadata": {},
   "source": [
    "### Local variables in a function are not visible outside the function"
   ]
  },
  {
   "cell_type": "code",
   "execution_count": null,
   "metadata": {},
   "outputs": [],
   "source": [
    "import math\n",
    "def math_operations(num):\n",
    "    sin_f = math.sin(num) # sin_f is a local variable\n",
    "    cos_f = math.cos(num) # cos_f is a local variable\n",
    "\n",
    "number = 10\n",
    "math_operations(number)\n",
    "print(\"Sin of {0} is {1} and cos is {2}\".format(number, sin_f, cos_f))"
   ]
  },
  {
   "cell_type": "markdown",
   "metadata": {},
   "source": [
    "### Local variables with same name as global variables do not get modified"
   ]
  },
  {
   "cell_type": "code",
   "execution_count": null,
   "metadata": {},
   "outputs": [],
   "source": [
    "import math\n",
    "def math_operations(num):\n",
    "    sin = math.sin(num)\n",
    "    cos = math.cos(num)\n",
    "\n",
    "number = 5\n",
    "sin = 5\n",
    "cos = 20\n",
    "math_operations(number)\n",
    "print(\"sin: {}, cos: {}\".format(sin, cos))"
   ]
  },
  {
   "cell_type": "markdown",
   "metadata": {},
   "source": [
    "### Each function has it's own local variables and they are not accessible across in other places"
   ]
  },
  {
   "cell_type": "code",
   "execution_count": null,
   "metadata": {},
   "outputs": [],
   "source": [
    "global_var = 20\n",
    "\n",
    "def func1(num):\n",
    "    local1 = 10\n",
    "    local2 = 20\n",
    "    print(\"I'm trying to print local variables {}, {} and a global variable {}\".format(local1, local2, global_var))\n",
    "    \n",
    "\n",
    "def func2(num):\n",
    "    local1 = 10\n",
    "    print(\"I'm trying to print local variables {}, {} and a global variable{}\".format(local1, local2, global_var))\n",
    "\n",
    "func1(10)\n",
    "func2(10)"
   ]
  },
  {
   "cell_type": "markdown",
   "metadata": {},
   "source": [
    "## Named Arguments: default values for arguments"
   ]
  },
  {
   "cell_type": "code",
   "execution_count": null,
   "metadata": {},
   "outputs": [],
   "source": [
    "def calc_summary(var1, var2, var3, calc_mean = True):\n",
    "    '''this is about thr funcion'''\n",
    "    if calc_mean:\n",
    "        return (var1+var2+var3)/3\n",
    "    else:\n",
    "        return var1+var2+var3\n",
    "\n",
    "summary = calc_summary(2, 3, 4,True)\n",
    "print(summary)\n",
    "\n",
    "summary = calc_summary(2, 3, 4, calc_mean=False)\n",
    "print(summary)"
   ]
  },
  {
   "cell_type": "markdown",
   "metadata": {},
   "source": [
    "## Helpers\n",
    "\n",
    "add a `?` at the end of most functions to get documentation"
   ]
  },
  {
   "cell_type": "code",
   "execution_count": null,
   "metadata": {},
   "outputs": [],
   "source": [
    "print?"
   ]
  },
  {
   "cell_type": "code",
   "execution_count": null,
   "metadata": {},
   "outputs": [],
   "source": [
    "random?"
   ]
  },
  {
   "cell_type": "code",
   "execution_count": null,
   "metadata": {},
   "outputs": [],
   "source": [
    "random.randint?"
   ]
  },
  {
   "cell_type": "code",
   "execution_count": null,
   "metadata": {},
   "outputs": [],
   "source": [
    "calc_summary?"
   ]
  }
 ],
 "metadata": {
  "kernelspec": {
   "display_name": "Python 3",
   "language": "python",
   "name": "python3"
  },
  "language_info": {
   "codemirror_mode": {
    "name": "ipython",
    "version": 3
   },
   "file_extension": ".py",
   "mimetype": "text/x-python",
   "name": "python",
   "nbconvert_exporter": "python",
   "pygments_lexer": "ipython3",
   "version": "3.7.4"
  }
 },
 "nbformat": 4,
 "nbformat_minor": 2
}
